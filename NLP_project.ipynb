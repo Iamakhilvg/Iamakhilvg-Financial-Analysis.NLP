{
  "nbformat": 4,
  "nbformat_minor": 0,
  "metadata": {
    "colab": {
      "provenance": [],
      "mount_file_id": "1CV2YiCOncxD-Ipgm9R0QJxy19BVbPgnX",
      "authorship_tag": "ABX9TyPl6tvUlCsKrWSnHLBnPtJ0",
      "include_colab_link": true
    },
    "kernelspec": {
      "name": "python3",
      "display_name": "Python 3"
    },
    "language_info": {
      "name": "python"
    }
  },
  "cells": [
    {
      "cell_type": "markdown",
      "metadata": {
        "id": "view-in-github",
        "colab_type": "text"
      },
      "source": [
        "<a href=\"https://colab.research.google.com/github/Iamakhilvg/Iamakhilvg-Financial-Analysis.NLP/blob/main/NLP_project.ipynb\" target=\"_parent\"><img src=\"https://colab.research.google.com/assets/colab-badge.svg\" alt=\"Open In Colab\"/></a>"
      ]
    },
    {
      "cell_type": "code",
      "execution_count": 1,
      "metadata": {
        "colab": {
          "base_uri": "https://localhost:8080/",
          "height": 423
        },
        "id": "R4ID_ZY8Liwe",
        "outputId": "74b3cfe1-2b4c-4862-c079-714e1d5760f9"
      },
      "outputs": [
        {
          "output_type": "execute_result",
          "data": {
            "text/plain": [
              "                                               Sentence Sentiment\n",
              "0     The GeoSolutions technology will leverage Bene...  positive\n",
              "1     $ESI on lows, down $1.50 to $2.50 BK a real po...  negative\n",
              "2     For the last quarter of 2010 , Componenta 's n...  positive\n",
              "3     According to the Finnish-Russian Chamber of Co...   neutral\n",
              "4     The Swedish buyout firm has sold its remaining...   neutral\n",
              "...                                                 ...       ...\n",
              "5837  RISING costs have forced packaging producer Hu...  negative\n",
              "5838  Nordic Walking was first used as a summer trai...   neutral\n",
              "5839  According shipping company Viking Line , the E...   neutral\n",
              "5840  In the building and home improvement trade , s...   neutral\n",
              "5841  HELSINKI AFX - KCI Konecranes said it has won ...  positive\n",
              "\n",
              "[5842 rows x 2 columns]"
            ],
            "text/html": [
              "\n",
              "  <div id=\"df-33d7be22-7889-49dd-90fa-22c926eceb1e\">\n",
              "    <div class=\"colab-df-container\">\n",
              "      <div>\n",
              "<style scoped>\n",
              "    .dataframe tbody tr th:only-of-type {\n",
              "        vertical-align: middle;\n",
              "    }\n",
              "\n",
              "    .dataframe tbody tr th {\n",
              "        vertical-align: top;\n",
              "    }\n",
              "\n",
              "    .dataframe thead th {\n",
              "        text-align: right;\n",
              "    }\n",
              "</style>\n",
              "<table border=\"1\" class=\"dataframe\">\n",
              "  <thead>\n",
              "    <tr style=\"text-align: right;\">\n",
              "      <th></th>\n",
              "      <th>Sentence</th>\n",
              "      <th>Sentiment</th>\n",
              "    </tr>\n",
              "  </thead>\n",
              "  <tbody>\n",
              "    <tr>\n",
              "      <th>0</th>\n",
              "      <td>The GeoSolutions technology will leverage Bene...</td>\n",
              "      <td>positive</td>\n",
              "    </tr>\n",
              "    <tr>\n",
              "      <th>1</th>\n",
              "      <td>$ESI on lows, down $1.50 to $2.50 BK a real po...</td>\n",
              "      <td>negative</td>\n",
              "    </tr>\n",
              "    <tr>\n",
              "      <th>2</th>\n",
              "      <td>For the last quarter of 2010 , Componenta 's n...</td>\n",
              "      <td>positive</td>\n",
              "    </tr>\n",
              "    <tr>\n",
              "      <th>3</th>\n",
              "      <td>According to the Finnish-Russian Chamber of Co...</td>\n",
              "      <td>neutral</td>\n",
              "    </tr>\n",
              "    <tr>\n",
              "      <th>4</th>\n",
              "      <td>The Swedish buyout firm has sold its remaining...</td>\n",
              "      <td>neutral</td>\n",
              "    </tr>\n",
              "    <tr>\n",
              "      <th>...</th>\n",
              "      <td>...</td>\n",
              "      <td>...</td>\n",
              "    </tr>\n",
              "    <tr>\n",
              "      <th>5837</th>\n",
              "      <td>RISING costs have forced packaging producer Hu...</td>\n",
              "      <td>negative</td>\n",
              "    </tr>\n",
              "    <tr>\n",
              "      <th>5838</th>\n",
              "      <td>Nordic Walking was first used as a summer trai...</td>\n",
              "      <td>neutral</td>\n",
              "    </tr>\n",
              "    <tr>\n",
              "      <th>5839</th>\n",
              "      <td>According shipping company Viking Line , the E...</td>\n",
              "      <td>neutral</td>\n",
              "    </tr>\n",
              "    <tr>\n",
              "      <th>5840</th>\n",
              "      <td>In the building and home improvement trade , s...</td>\n",
              "      <td>neutral</td>\n",
              "    </tr>\n",
              "    <tr>\n",
              "      <th>5841</th>\n",
              "      <td>HELSINKI AFX - KCI Konecranes said it has won ...</td>\n",
              "      <td>positive</td>\n",
              "    </tr>\n",
              "  </tbody>\n",
              "</table>\n",
              "<p>5842 rows × 2 columns</p>\n",
              "</div>\n",
              "      <button class=\"colab-df-convert\" onclick=\"convertToInteractive('df-33d7be22-7889-49dd-90fa-22c926eceb1e')\"\n",
              "              title=\"Convert this dataframe to an interactive table.\"\n",
              "              style=\"display:none;\">\n",
              "        \n",
              "  <svg xmlns=\"http://www.w3.org/2000/svg\" height=\"24px\"viewBox=\"0 0 24 24\"\n",
              "       width=\"24px\">\n",
              "    <path d=\"M0 0h24v24H0V0z\" fill=\"none\"/>\n",
              "    <path d=\"M18.56 5.44l.94 2.06.94-2.06 2.06-.94-2.06-.94-.94-2.06-.94 2.06-2.06.94zm-11 1L8.5 8.5l.94-2.06 2.06-.94-2.06-.94L8.5 2.5l-.94 2.06-2.06.94zm10 10l.94 2.06.94-2.06 2.06-.94-2.06-.94-.94-2.06-.94 2.06-2.06.94z\"/><path d=\"M17.41 7.96l-1.37-1.37c-.4-.4-.92-.59-1.43-.59-.52 0-1.04.2-1.43.59L10.3 9.45l-7.72 7.72c-.78.78-.78 2.05 0 2.83L4 21.41c.39.39.9.59 1.41.59.51 0 1.02-.2 1.41-.59l7.78-7.78 2.81-2.81c.8-.78.8-2.07 0-2.86zM5.41 20L4 18.59l7.72-7.72 1.47 1.35L5.41 20z\"/>\n",
              "  </svg>\n",
              "      </button>\n",
              "      \n",
              "  <style>\n",
              "    .colab-df-container {\n",
              "      display:flex;\n",
              "      flex-wrap:wrap;\n",
              "      gap: 12px;\n",
              "    }\n",
              "\n",
              "    .colab-df-convert {\n",
              "      background-color: #E8F0FE;\n",
              "      border: none;\n",
              "      border-radius: 50%;\n",
              "      cursor: pointer;\n",
              "      display: none;\n",
              "      fill: #1967D2;\n",
              "      height: 32px;\n",
              "      padding: 0 0 0 0;\n",
              "      width: 32px;\n",
              "    }\n",
              "\n",
              "    .colab-df-convert:hover {\n",
              "      background-color: #E2EBFA;\n",
              "      box-shadow: 0px 1px 2px rgba(60, 64, 67, 0.3), 0px 1px 3px 1px rgba(60, 64, 67, 0.15);\n",
              "      fill: #174EA6;\n",
              "    }\n",
              "\n",
              "    [theme=dark] .colab-df-convert {\n",
              "      background-color: #3B4455;\n",
              "      fill: #D2E3FC;\n",
              "    }\n",
              "\n",
              "    [theme=dark] .colab-df-convert:hover {\n",
              "      background-color: #434B5C;\n",
              "      box-shadow: 0px 1px 3px 1px rgba(0, 0, 0, 0.15);\n",
              "      filter: drop-shadow(0px 1px 2px rgba(0, 0, 0, 0.3));\n",
              "      fill: #FFFFFF;\n",
              "    }\n",
              "  </style>\n",
              "\n",
              "      <script>\n",
              "        const buttonEl =\n",
              "          document.querySelector('#df-33d7be22-7889-49dd-90fa-22c926eceb1e button.colab-df-convert');\n",
              "        buttonEl.style.display =\n",
              "          google.colab.kernel.accessAllowed ? 'block' : 'none';\n",
              "\n",
              "        async function convertToInteractive(key) {\n",
              "          const element = document.querySelector('#df-33d7be22-7889-49dd-90fa-22c926eceb1e');\n",
              "          const dataTable =\n",
              "            await google.colab.kernel.invokeFunction('convertToInteractive',\n",
              "                                                     [key], {});\n",
              "          if (!dataTable) return;\n",
              "\n",
              "          const docLinkHtml = 'Like what you see? Visit the ' +\n",
              "            '<a target=\"_blank\" href=https://colab.research.google.com/notebooks/data_table.ipynb>data table notebook</a>'\n",
              "            + ' to learn more about interactive tables.';\n",
              "          element.innerHTML = '';\n",
              "          dataTable['output_type'] = 'display_data';\n",
              "          await google.colab.output.renderOutput(dataTable, element);\n",
              "          const docLink = document.createElement('div');\n",
              "          docLink.innerHTML = docLinkHtml;\n",
              "          element.appendChild(docLink);\n",
              "        }\n",
              "      </script>\n",
              "    </div>\n",
              "  </div>\n",
              "  "
            ]
          },
          "metadata": {},
          "execution_count": 1
        }
      ],
      "source": [
        "import warnings\n",
        "warnings.filterwarnings('ignore')\n",
        "import pandas as pd\n",
        "df=pd.read_csv('/content/drive/MyDrive/Data SET/Financial Analysis.csv')\n",
        "df\n"
      ]
    },
    {
      "cell_type": "code",
      "source": [
        "df['Sentiment'].value_counts()"
      ],
      "metadata": {
        "colab": {
          "base_uri": "https://localhost:8080/"
        },
        "id": "Wq40caaxNXWk",
        "outputId": "f0e803dd-b312-444f-ed22-7125c7eadfbd"
      },
      "execution_count": 2,
      "outputs": [
        {
          "output_type": "execute_result",
          "data": {
            "text/plain": [
              "neutral     3130\n",
              "positive    1852\n",
              "negative     860\n",
              "Name: Sentiment, dtype: int64"
            ]
          },
          "metadata": {},
          "execution_count": 2
        }
      ]
    },
    {
      "cell_type": "code",
      "source": [
        "df['Sentiment']=df['Sentiment'].map({'negative':-1,'neutral':0,'positive':1})"
      ],
      "metadata": {
        "id": "D11eGCQzNI3x"
      },
      "execution_count": 3,
      "outputs": []
    },
    {
      "cell_type": "code",
      "source": [
        "sent=df['Sentence']\n",
        "sent"
      ],
      "metadata": {
        "colab": {
          "base_uri": "https://localhost:8080/"
        },
        "id": "rWjHuovoMdXC",
        "outputId": "a0734aa5-d0d9-4574-b34f-84a6ab776e04"
      },
      "execution_count": 4,
      "outputs": [
        {
          "output_type": "execute_result",
          "data": {
            "text/plain": [
              "0       The GeoSolutions technology will leverage Bene...\n",
              "1       $ESI on lows, down $1.50 to $2.50 BK a real po...\n",
              "2       For the last quarter of 2010 , Componenta 's n...\n",
              "3       According to the Finnish-Russian Chamber of Co...\n",
              "4       The Swedish buyout firm has sold its remaining...\n",
              "                              ...                        \n",
              "5837    RISING costs have forced packaging producer Hu...\n",
              "5838    Nordic Walking was first used as a summer trai...\n",
              "5839    According shipping company Viking Line , the E...\n",
              "5840    In the building and home improvement trade , s...\n",
              "5841    HELSINKI AFX - KCI Konecranes said it has won ...\n",
              "Name: Sentence, Length: 5842, dtype: object"
            ]
          },
          "metadata": {},
          "execution_count": 4
        }
      ]
    },
    {
      "cell_type": "code",
      "source": [
        "#REMOVAL OF SPECIAL CHARACTERS\n",
        "sent=sent.str.replace('[^A-Za-z0-9]+',' ')\n",
        "sent"
      ],
      "metadata": {
        "colab": {
          "base_uri": "https://localhost:8080/"
        },
        "id": "49R1JNlRMdTH",
        "outputId": "aaf9cecf-f3fe-4f01-e005-2f53610bf286"
      },
      "execution_count": 5,
      "outputs": [
        {
          "output_type": "execute_result",
          "data": {
            "text/plain": [
              "0       The GeoSolutions technology will leverage Bene...\n",
              "1        ESI on lows down 1 50 to 2 50 BK a real possi...\n",
              "2       For the last quarter of 2010 Componenta s net ...\n",
              "3       According to the Finnish Russian Chamber of Co...\n",
              "4       The Swedish buyout firm has sold its remaining...\n",
              "                              ...                        \n",
              "5837    RISING costs have forced packaging producer Hu...\n",
              "5838    Nordic Walking was first used as a summer trai...\n",
              "5839    According shipping company Viking Line the EU ...\n",
              "5840    In the building and home improvement trade sal...\n",
              "5841    HELSINKI AFX KCI Konecranes said it has won an...\n",
              "Name: Sentence, Length: 5842, dtype: object"
            ]
          },
          "metadata": {},
          "execution_count": 5
        }
      ]
    },
    {
      "cell_type": "code",
      "source": [
        "#STEMMING&TOKENIZING\n",
        "from nltk.stem import SnowballStemmer\n",
        "from nltk import TweetTokenizer\n",
        "st=SnowballStemmer('english')\n",
        "tk=TweetTokenizer()"
      ],
      "metadata": {
        "id": "FU1Pja2QMdQR"
      },
      "execution_count": 6,
      "outputs": []
    },
    {
      "cell_type": "code",
      "source": [
        "sent=sent.apply(lambda x:[st.stem(i.lower()) for i in tk.tokenize(x)]).apply(lambda x:' '.join(x))"
      ],
      "metadata": {
        "id": "DFlnoE0NMdL3"
      },
      "execution_count": 7,
      "outputs": []
    },
    {
      "cell_type": "code",
      "source": [
        "#REMOVAL OF STOPWORDS IN THE DATASET\n",
        "from nltk.corpus import stopwords\n",
        "import nltk\n",
        "nltk.download('stopwords')\n",
        "sw=stopwords.words('english')"
      ],
      "metadata": {
        "colab": {
          "base_uri": "https://localhost:8080/"
        },
        "id": "WHCZv9DDMdJW",
        "outputId": "8d32f2db-5d86-4f6f-eaa4-28eaa70af3f7"
      },
      "execution_count": 8,
      "outputs": [
        {
          "output_type": "stream",
          "name": "stderr",
          "text": [
            "[nltk_data] Downloading package stopwords to /root/nltk_data...\n",
            "[nltk_data]   Unzipping corpora/stopwords.zip.\n"
          ]
        }
      ]
    },
    {
      "cell_type": "code",
      "source": [
        "sent=sent.apply(lambda x:[i for i in tk.tokenize(x) if i not in sw]).apply(lambda x:' '.join(x))"
      ],
      "metadata": {
        "id": "nZjGTUCARBoZ"
      },
      "execution_count": 9,
      "outputs": []
    },
    {
      "cell_type": "code",
      "source": [
        "#VECTORIZATION\n",
        "from sklearn.feature_extraction.text import TfidfVectorizer\n",
        "vect=TfidfVectorizer()\n",
        "train_vec=vect.fit_transform(sent)\n",
        "print(train_vec)"
      ],
      "metadata": {
        "colab": {
          "base_uri": "https://localhost:8080/"
        },
        "id": "ZFj75OHKRBmX",
        "outputId": "a338fbfb-7f88-401c-ed4a-cfe9dc53ba9e"
      },
      "execution_count": 10,
      "outputs": [
        {
          "output_type": "stream",
          "name": "stdout",
          "text": [
            "  (0, 5246)\t0.1833008779067519\n",
            "  (0, 2229)\t0.19205925557131567\n",
            "  (0, 6150)\t0.18064001805112886\n",
            "  (0, 5456)\t0.12731516226281425\n",
            "  (0, 2333)\t0.20166699101828808\n",
            "  (0, 5347)\t0.2589282397996139\n",
            "  (0, 6536)\t0.24625898667946033\n",
            "  (0, 6054)\t0.21978412892537136\n",
            "  (0, 2240)\t0.23358973355930687\n",
            "  (0, 6975)\t0.24144236018726342\n",
            "  (0, 1518)\t0.14526741206780652\n",
            "  (0, 4846)\t0.3739623057703337\n",
            "  (0, 6275)\t0.1480610302305703\n",
            "  (0, 7276)\t0.1480610302305703\n",
            "  (0, 3671)\t0.24625898667946033\n",
            "  (0, 1592)\t0.23029761540895097\n",
            "  (0, 4760)\t0.2589282397996139\n",
            "  (0, 7738)\t0.3063576549345305\n",
            "  (0, 3588)\t0.26791721794135237\n",
            "  (1, 6134)\t0.3540565551878513\n",
            "  (1, 6444)\t0.2844399786948538\n",
            "  (1, 1662)\t0.4358707948826524\n",
            "  (1, 598)\t0.5529618799525551\n",
            "  (1, 4888)\t0.2993520345466769\n",
            "  (1, 3091)\t0.45648222654233644\n",
            "  :\t:\n",
            "  (5840, 2573)\t0.28338077604197376\n",
            "  (5840, 4082)\t0.33130752806431885\n",
            "  (5840, 7958)\t0.31730884477923543\n",
            "  (5840, 5239)\t0.22242885313460403\n",
            "  (5840, 1847)\t0.3018407208054276\n",
            "  (5840, 307)\t0.3459225783657465\n",
            "  (5840, 3122)\t0.16419301525630525\n",
            "  (5840, 6847)\t0.2000620491104856\n",
            "  (5841, 7491)\t0.2850013697286938\n",
            "  (5841, 4644)\t0.29489550520360147\n",
            "  (5841, 4485)\t0.2773268820269102\n",
            "  (5841, 4108)\t0.2472172327964119\n",
            "  (5841, 4580)\t0.22797058884483798\n",
            "  (5841, 5145)\t0.21040196566814662\n",
            "  (5841, 3960)\t0.261162233525099\n",
            "  (5841, 2416)\t0.23523805873618392\n",
            "  (5841, 1080)\t0.22797058884483798\n",
            "  (5841, 6226)\t0.19362858262762206\n",
            "  (5841, 5709)\t0.1634686885327016\n",
            "  (5841, 1615)\t0.2850013697286938\n",
            "  (5841, 7419)\t0.39097619027088587\n",
            "  (5841, 6835)\t0.1178597682323026\n",
            "  (5841, 3445)\t0.21348396111790935\n",
            "  (5841, 4902)\t0.1981349857143421\n",
            "  (5841, 3877)\t0.1581312010089361\n"
          ]
        }
      ]
    },
    {
      "cell_type": "code",
      "source": [
        "X=train_vec\n",
        "y=df['Sentiment'].values"
      ],
      "metadata": {
        "id": "5uIbZadyRBk1"
      },
      "execution_count": 11,
      "outputs": []
    },
    {
      "cell_type": "code",
      "source": [
        "from sklearn.model_selection import train_test_split\n",
        "X_train,X_test,y_train,y_test=train_test_split(X,y,test_size=.3,random_state=1)"
      ],
      "metadata": {
        "id": "KU2qgoEJRBgi"
      },
      "execution_count": 12,
      "outputs": []
    },
    {
      "cell_type": "code",
      "source": [
        "from sklearn.svm import SVC\n",
        "from sklearn.naive_bayes import MultinomialNB\n",
        "from sklearn.ensemble import RandomForestClassifier,AdaBoostClassifier\n",
        "scv=SVC()\n",
        "nb=MultinomialNB()\n",
        "rclf=RandomForestClassifier()\n",
        "aclf=AdaBoostClassifier()\n"
      ],
      "metadata": {
        "id": "YlK-ki2uRAzf"
      },
      "execution_count": 13,
      "outputs": []
    },
    {
      "cell_type": "code",
      "source": [
        "#SUPPORT VECTOR CLASSIFIER\n",
        "scv.fit(X_train,y_train)\n",
        "y_pred=scv.predict(X_test)\n",
        "y_pred\n",
        "from sklearn.metrics import accuracy_score,ConfusionMatrixDisplay,classification_report\n",
        "print(accuracy_score(y_test,y_pred))\n",
        "print(ConfusionMatrixDisplay.from_predictions(y_test,y_pred))\n",
        "print(classification_report(y_test,y_pred))"
      ],
      "metadata": {
        "colab": {
          "base_uri": "https://localhost:8080/",
          "height": 487
        },
        "id": "MAx_URTZWppG",
        "outputId": "8144ab18-657b-47b3-c186-daecda9c8eae"
      },
      "execution_count": 14,
      "outputs": [
        {
          "output_type": "stream",
          "name": "stdout",
          "text": [
            "0.6588705077010839\n",
            "<sklearn.metrics._plot.confusion_matrix.ConfusionMatrixDisplay object at 0x7f10b3a61730>\n",
            "              precision    recall  f1-score   support\n",
            "\n",
            "          -1       0.18      0.07      0.10       251\n",
            "           0       0.65      0.89      0.75       926\n",
            "           1       0.82      0.55      0.65       576\n",
            "\n",
            "    accuracy                           0.66      1753\n",
            "   macro avg       0.55      0.50      0.50      1753\n",
            "weighted avg       0.64      0.66      0.63      1753\n",
            "\n"
          ]
        },
        {
          "output_type": "display_data",
          "data": {
            "text/plain": [
              "<Figure size 432x288 with 2 Axes>"
            ],
            "image/png": "[encoded data removed]"
          },
          "metadata": {
            "needs_background": "light"
          }
        }
      ]
    },
    {
      "cell_type": "code",
      "source": [
        "#MultinomialNB\n",
        "nb.fit(X_train,y_train)\n",
        "y_pred=nb.predict(X_test)\n",
        "y_pred\n",
        "from sklearn.metrics import accuracy_score,ConfusionMatrixDisplay,classification_report\n",
        "print(accuracy_score(y_test,y_pred))\n",
        "print(ConfusionMatrixDisplay.from_predictions(y_test,y_pred))\n",
        "print(classification_report(y_test,y_pred))"
      ],
      "metadata": {
        "colab": {
          "base_uri": "https://localhost:8080/",
          "height": 491
        },
        "id": "rjCpoF9pUpjy",
        "outputId": "d41c06e1-850a-4422-b063-01acd3ae9008"
      },
      "execution_count": 15,
      "outputs": [
        {
          "output_type": "stream",
          "name": "stdout",
          "text": [
            "0.6486023958927553\n",
            "<sklearn.metrics._plot.confusion_matrix.ConfusionMatrixDisplay object at 0x7f10a95e04c0>\n",
            "              precision    recall  f1-score   support\n",
            "\n",
            "          -1       1.00      0.02      0.05       251\n",
            "           0       0.63      0.97      0.76       926\n",
            "           1       0.75      0.40      0.52       576\n",
            "\n",
            "    accuracy                           0.65      1753\n",
            "   macro avg       0.79      0.47      0.44      1753\n",
            "weighted avg       0.72      0.65      0.58      1753\n",
            "\n"
          ]
        },
        {
          "output_type": "display_data",
          "data": {
            "text/plain": [
              "<Figure size 432x288 with 2 Axes>"
            ],
            "image/png": "[encoded data removed]"
          },
          "metadata": {
            "needs_background": "light"
          }
        }
      ]
    },
    {
      "cell_type": "code",
      "source": [
        "#RandomForestClassifier\n",
        "rclf.fit(X_train,y_train)\n",
        "y_pred=rclf.predict(X_test)\n",
        "y_pred\n",
        "from sklearn.metrics import accuracy_score,ConfusionMatrixDisplay,classification_report\n",
        "print(accuracy_score(y_test,y_pred))\n",
        "print(ConfusionMatrixDisplay.from_predictions(y_test,y_pred))\n",
        "print(classification_report(y_test,y_pred))"
      ],
      "metadata": {
        "colab": {
          "base_uri": "https://localhost:8080/",
          "height": 487
        },
        "id": "77hAvL2qUpf9",
        "outputId": "6bcbc583-956f-41c7-8c3b-64e59bc3a4fb"
      },
      "execution_count": 16,
      "outputs": [
        {
          "output_type": "stream",
          "name": "stdout",
          "text": [
            "0.6514546491728466\n",
            "<sklearn.metrics._plot.confusion_matrix.ConfusionMatrixDisplay object at 0x7f10a958aca0>\n",
            "              precision    recall  f1-score   support\n",
            "\n",
            "          -1       0.18      0.11      0.14       251\n",
            "           0       0.66      0.83      0.73       926\n",
            "           1       0.78      0.61      0.68       576\n",
            "\n",
            "    accuracy                           0.65      1753\n",
            "   macro avg       0.54      0.51      0.52      1753\n",
            "weighted avg       0.63      0.65      0.63      1753\n",
            "\n"
          ]
        },
        {
          "output_type": "display_data",
          "data": {
            "text/plain": [
              "<Figure size 432x288 with 2 Axes>"
            ],
            "image/png": "[encoded data removed]"
          },
          "metadata": {
            "needs_background": "light"
          }
        }
      ]
    },
    {
      "cell_type": "code",
      "source": [
        "#AdaBoostClassifier\n",
        "aclf.fit(X_train,y_train)\n",
        "y_pred=aclf.predict(X_test)\n",
        "y_pred\n",
        "from sklearn.metrics import accuracy_score,ConfusionMatrixDisplay,classification_report\n",
        "print(accuracy_score(y_test,y_pred))\n",
        "print(ConfusionMatrixDisplay.from_predictions(y_test,y_pred))\n",
        "print(classification_report(y_test,y_pred))"
      ],
      "metadata": {
        "colab": {
          "base_uri": "https://localhost:8080/",
          "height": 487
        },
        "id": "_DKyQC0hRAoj",
        "outputId": "edcf0994-eba8-4430-beee-87ee080561a9"
      },
      "execution_count": 17,
      "outputs": [
        {
          "output_type": "stream",
          "name": "stdout",
          "text": [
            "0.6360524814603536\n",
            "<sklearn.metrics._plot.confusion_matrix.ConfusionMatrixDisplay object at 0x7f10a68c0d90>\n",
            "              precision    recall  f1-score   support\n",
            "\n",
            "          -1       0.38      0.20      0.26       251\n",
            "           0       0.64      0.89      0.74       926\n",
            "           1       0.74      0.42      0.54       576\n",
            "\n",
            "    accuracy                           0.64      1753\n",
            "   macro avg       0.58      0.50      0.51      1753\n",
            "weighted avg       0.63      0.64      0.61      1753\n",
            "\n"
          ]
        },
        {
          "output_type": "display_data",
          "data": {
            "text/plain": [
              "<Figure size 432x288 with 2 Axes>"
            ],
            "image/png": "[encoded data removed]"
          },
          "metadata": {
            "needs_background": "light"
          }
        }
      ]
    },
    {
      "cell_type": "code",
      "source": [],
      "metadata": {
        "id": "aeirfV9hMdCu"
      },
      "execution_count": 17,
      "outputs": []
    }
  ]
}